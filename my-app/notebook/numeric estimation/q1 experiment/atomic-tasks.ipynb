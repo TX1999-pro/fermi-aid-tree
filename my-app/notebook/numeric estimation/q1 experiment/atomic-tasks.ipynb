{
 "cells": [
  {
   "attachments": {},
   "cell_type": "markdown",
   "metadata": {},
   "source": [
    "# 20230603 - atomic tasks for LLM"
   ]
  },
  {
   "cell_type": "code",
   "execution_count": 2,
   "metadata": {},
   "outputs": [],
   "source": [
    "import os\n",
    "from dotenv import load_dotenv, find_dotenv # load keys from .env file\n",
    "import openai # use OpenAI API\n",
    "import random\n",
    "import json\n",
    "import pandas as pd\n",
    "import numpy as np\n",
    "import datetime\n",
    "\n",
    "_ = load_dotenv(find_dotenv()) # read local .env file\n",
    "openai.api_key  = os.getenv('OPENAI_API_KEY')"
   ]
  },
  {
   "cell_type": "code",
   "execution_count": 6,
   "metadata": {},
   "outputs": [],
   "source": [
    "def get_completion(prompt, model=\"gpt-3.5-turbo\"):\n",
    "    messages = [{\"role\": \"user\", \"content\": prompt}]\n",
    "    response = openai.ChatCompletion.create(\n",
    "        model=model,\n",
    "        messages=messages,\n",
    "        temperature=0, # this is the degree of randomness of the model's output\n",
    "    )\n",
    "    print(\">>>>\")\n",
    "    print(str(response.choices[0].message[\"content\"]))\n",
    "    return response.choices[0].message[\"content\"]\n",
    "\n",
    "def get_completion_from_messages(messages, model=\"gpt-3.5-turbo\", temperature=0):\n",
    "    response = openai.ChatCompletion.create(\n",
    "        model=model,\n",
    "        messages=messages,\n",
    "        temperature=temperature,\n",
    "    )\n",
    "    print(str(response.choices[0].message))\n",
    "    return response.choices[0].message[\"content\"]\n",
    "\n",
    "# random sentence generator - use words from pre-defined lists\n",
    "subjects = [\"I\", \"You\", \"Bob\", \"Alice\", \"The cat\", \"The robot\", \"My friend\"]\n",
    "verbs = [\"like\", \"love\", \"see\", \"know\", \"wish\", \"hate\", \"fear\", \"hope\"]\n",
    "objects = [\"apples\", \"the beach\", \"a movie\", \"this song\", \"the book\", \"that car\"]\n",
    "\n",
    "def generate_sentence():\n",
    "    subject = random.choice(subjects)\n",
    "    verb = random.choice(verbs)\n",
    "    object_ = random.choice(objects)\n",
    "    return f\"{subject} {verb} {object_}.\"\n"
   ]
  },
  {
   "cell_type": "code",
   "execution_count": 9,
   "metadata": {},
   "outputs": [
    {
     "name": "stdout",
     "output_type": "stream",
     "text": [
      ">>>>\n",
      "Bob fear apples.\n"
     ]
    }
   ],
   "source": [
    "prompt = \"\"\"\\\n",
    "Assistant will repeat the sentence the user provides.\\\n",
    "Assistant will only repeat the sentence.\n",
    "Assistant will only repeat the sentence.\n",
    "Assistant will only repeat the sentence.\n",
    "SENTENCE: what is 32000 multiplied by 650 in the order of magnitude of 10?\n",
    "OUTPUT: what is 32000 multiplied by 650 in the order of magnitude of 10?\n",
    "\n",
    "SENTENCE: is there a way to get the result of t?\n",
    "OUTPUT: is there a way to get the result of t?\n",
    "\n",
    "SENTENCE: I don't want to do anything.\n",
    "OUTPUT: I don't want to do anything.\n",
    "\n",
    "SENTENCE: I want to do something.\n",
    "OUTPUT: I want to do something.\n",
    "\n",
    "SENTENCE: {sentence}\n",
    "QUESTION: \"\"\"\n",
    "\n",
    "\n",
    "result = get_completion(prompt.format(sentence=generate_sentence()), model=\"gpt-4\")\n",
    "\n",
    "# reflection: do i want the assistant to performance is, \n",
    "# or could I use a more reliable programming language to complete this task?\n",
    "\n",
    "def repeat_sentence(sentence: str):\n",
    "    return sentence\n",
    "\n",
    "result = repeat_sentence(generate_sentence())"
   ]
  }
 ],
 "metadata": {
  "kernelspec": {
   "display_name": "Python 3",
   "language": "python",
   "name": "python3"
  },
  "language_info": {
   "codemirror_mode": {
    "name": "ipython",
    "version": 3
   },
   "file_extension": ".py",
   "mimetype": "text/x-python",
   "name": "python",
   "nbconvert_exporter": "python",
   "pygments_lexer": "ipython3",
   "version": "3.11.3"
  },
  "orig_nbformat": 4
 },
 "nbformat": 4,
 "nbformat_minor": 2
}
