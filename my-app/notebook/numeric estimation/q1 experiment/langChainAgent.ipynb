{
 "cells": [
  {
   "attachments": {},
   "cell_type": "markdown",
   "metadata": {},
   "source": [
    "# Qualitative study on Fermi estimation problem"
   ]
  },
  {
   "cell_type": "code",
   "execution_count": null,
   "metadata": {},
   "outputs": [],
   "source": [
    "%pip install openai\n",
    "%pip install langchain\n",
    "%pip install python-dotenv\n",
    "\n",
    "import os\n",
    "import openai\n",
    "from dotenv import load_dotenv, find_dotenv\n",
    "_ = load_dotenv(find_dotenv()) # read local .env file\n",
    "\n",
    "openai.api_key  = os.getenv('OPENAI_API_KEY')"
   ]
  },
  {
   "attachments": {},
   "cell_type": "markdown",
   "metadata": {},
   "source": [
    "## Task breakdown - formalise estimation into sub steps\n",
    "\n",
    "human-in-the-loop as the invigilator (monitor model output and decide what's sensible as input)"
   ]
  },
  {
   "cell_type": "code",
   "execution_count": 11,
   "metadata": {},
   "outputs": [
    {
     "name": "stdout",
     "output_type": "stream",
     "text": [
      "Tokens Used: 54\n",
      "\tPrompt Tokens: 41\n",
      "\tCompletion Tokens: 13\n",
      "Successful Requests: 1\n",
      "Total Cost (USD): $0.0010800000000000002\n",
      "What is the number of nurseries located in London?\n"
     ]
    }
   ],
   "source": [
    "# Freddie suggestion: how can a language model generalise the model\n",
    "# such as estimating the number of nursery in Beijing?\n",
    "\n",
    "\n",
    "# STEP 0 - natural language understanding\n",
    "# What do I want to estimate here\n",
    "# rephrase: what the question is asking me about?\n",
    "\n",
    "from langchain.prompts import PromptTemplate\n",
    "from langchain.llms import OpenAI\n",
    "from langchain.callbacks import get_openai_callback\n",
    "from langchain.chains import LLMChain\n",
    "## set up LLM\n",
    "llm = OpenAI(temperature=0.9, max_tokens=1000)\n",
    "\n",
    "## set up prompt template\n",
    "prompt = PromptTemplate(\n",
    "    input_variables=[\"question\"],\n",
    "    template=\"\"\"\\\n",
    "Assistant will not directly answer.\\ Assistant wants to clarify what it means.\n",
    "Assistant will rephrase the content after QUESTION \\\n",
    "QUESTION: {question}\"\"\",\n",
    ")\n",
    "\n",
    "## create a chain (or, chain the action)\n",
    "chain = LLMChain(llm=llm, prompt=prompt)\n",
    "with get_openai_callback() as cb:\n",
    "    output = chain.run(\"How could I know how many nurseries are there in London?\").strip()\n",
    "    print(cb)\n",
    "\n",
    "print(output)"
   ]
  },
  {
   "cell_type": "code",
   "execution_count": 12,
   "metadata": {},
   "outputs": [
    {
     "name": "stdout",
     "output_type": "stream",
     "text": [
      "Tokens Used: 706\n",
      "\tPrompt Tokens: 425\n",
      "\tCompletion Tokens: 281\n",
      "Successful Requests: 1\n",
      "Total Cost (USD): $0.01412\n",
      "Categorization:\n",
      "Assumptions:\n",
      "1. A pint of blood is approximately 500 mL.\n",
      "2. The average adult has about 5 liters (5,000 mL) of blood.\n",
      "3. The average red blood cell (RBC) lifespan is about 120 days.\n",
      "4. The body produces RBCs at a constant rate to maintain a stable RBC count.\n",
      "\n",
      "Calculations:\n",
      "Step 1: Calculate the percentage of blood donated\n",
      "(500 mL donated) / (5,000 mL total blood) = 0.1 or 10%\n",
      "\n",
      "Step 2: Estimate the percentage of RBCs lost\n",
      "Since you donated 10% of your blood, we can assume you also lost about 10% of your RBCs.\n",
      "\n",
      "Step 3: Calculate the time it takes to replace the lost RBCs\n",
      "Since the average RBC lifespan is 120 days, we can assume that your body replaces about 1/120th of your RBCs every day. To replace the 10% of RBCs lost, we can use the following calculation:\n",
      "\n",
      "(10% RBCs lost) / (1/120 RBCs replaced per day) = 12 days\n",
      "\n",
      "Final Answer: So, it will take approximately 12 days for your red cell count to return to normal after donating a pint of blood.\n"
     ]
    }
   ],
   "source": [
    "## intermediate task: categorize the LM output into 3 categories\n",
    "prompt_format_output = PromptTemplate(\n",
    "    input_variables=[\"LM_output\"],\n",
    "    template=\"\"\"\\\n",
    "Assistant is ready to help user categorize LM output into 3 categorizes:\n",
    "Assumptions, Calculation, and Final Answer.\\\n",
    "Assistant will only arrange the information into categorises. Assitant will not make up any new information not presented from LM output.\\\n",
    "LM output: {LM_output}\"\"\",\n",
    ")\n",
    "\n",
    "LM_output = \"\"\"To estimate the number of days it takes for your red cell count to return to normal after donating a pint of blood, we can make some assumptions and calculations.\n",
    "\n",
    "Assumptions:\n",
    "1. A pint of blood is approximately 500 mL.\n",
    "2. The average adult has about 5 liters (5,000 mL) of blood.\n",
    "3. The average red blood cell (RBC) lifespan is about 120 days.\n",
    "4. The body produces RBCs at a constant rate to maintain a stable RBC count.\n",
    "\n",
    "Step 1: Calculate the percentage of blood donated\n",
    "(500 mL donated) / (5,000 mL total blood) = 0.1 or 10%\n",
    "\n",
    "Step 2: Estimate the percentage of RBCs lost\n",
    "Since you donated 10% of your blood, we can assume you also lost about 10% of your RBCs.\n",
    "\n",
    "Step 3: Calculate the time it takes to replace the lost RBCs\n",
    "Since the average RBC lifespan is 120 days, we can assume that your body replaces about 1/120th of your RBCs every day. To replace the 10% of RBCs lost, we can use the following calculation:\n",
    "\n",
    "(10% RBCs lost) / (1/120 RBCs replaced per day) = 12 days\n",
    "\n",
    "So, it will take approximately 12 days for your red cell count to return to normal after donating a pint of blood.\n",
    "\n",
    "REASON: We made assumptions about the volume of blood donated, the total blood volume, and the RBC replacement rate to estimate the time it takes for the red cell count to return to normal.\n",
    "\n",
    "ESTIMATED VALUE: 10^1 (since 12 is in the order of magnitude of 10)\"\"\"\n",
    "\n",
    "## create a chain (or, chain the action)\n",
    "chain_format_output = LLMChain(llm=llm, prompt=prompt_format_output)\n",
    "with get_openai_callback() as cb:\n",
    "    output = chain_format_output.run(LM_output).strip()\n",
    "    print(cb)\n",
    "\n",
    "print(output)"
   ]
  },
  {
   "cell_type": "code",
   "execution_count": null,
   "metadata": {},
   "outputs": [],
   "source": [
    "# intermediate task: evaluate a list of assumptions (list)\n",
    "prompt_evaluate_assumption = PromptTemplate(\n",
    "    input_variables=[\"question\",\"LM_output\"],\n",
    "    template=\"\"\"\\\n",
    "Assistant will assign a confidence score to a list of statements.\\\n",
    "Assistant will only \\\n",
    "assumption statements:\\\n",
    " {LM_output}\"\"\",\n",
    ")\n",
    "\n",
    "LM_output = \"\"\"To estimate the number of days it takes for your red cell count to return to normal after donating a pint of blood, we can make some assumptions and calculations.\n",
    "\n",
    "Assumptions:\n",
    "1. A pint of blood is approximately 500 mL.\n",
    "2. The average adult has about 5 liters (5,000 mL) of blood.\n",
    "3. The average red blood cell (RBC) lifespan is about 120 days.\n",
    "4. The body produces RBCs at a constant rate to maintain a stable RBC count.\n",
    "\"\"\"\n",
    "\n",
    "## create a chain (or, chain the action)\n",
    "chain_format_output = LLMChain(llm=llm, prompt=prompt_format_output)\n",
    "with get_openai_callback() as cb:\n",
    "    output = chain_format_output.run(LM_output).strip()\n",
    "    print(cb)\n",
    "\n",
    "print(output)"
   ]
  }
 ],
 "metadata": {
  "kernelspec": {
   "display_name": "Python 3",
   "language": "python",
   "name": "python3"
  },
  "language_info": {
   "codemirror_mode": {
    "name": "ipython",
    "version": 3
   },
   "file_extension": ".py",
   "mimetype": "text/x-python",
   "name": "python",
   "nbconvert_exporter": "python",
   "pygments_lexer": "ipython3",
   "version": "3.11.3"
  },
  "orig_nbformat": 4
 },
 "nbformat": 4,
 "nbformat_minor": 2
}
