{
 "cells": [
  {
   "cell_type": "code",
   "execution_count": 14,
   "metadata": {},
   "outputs": [
    {
     "name": "stdout",
     "output_type": "stream",
     "text": [
      "12.3 mega\n"
     ]
    }
   ],
   "source": [
    "# order of magnitude of the number of samples\n",
    "def convert_to_scientific(n):\n",
    "    return \"{:.2e}\".format(n)\n",
    "\n",
    "def convert_to_prefix(n:float):\n",
    "    prefixes = [\n",
    "        (1e18, 'E'),\n",
    "        (1e15, 'P'),\n",
    "        (1e12, 'T'),\n",
    "        (1e9, 'G'),\n",
    "        (1e6, 'M'),\n",
    "        (1e3, 'k'),\n",
    "        (1e2, 'h'),\n",
    "        (1e1, 'da'),\n",
    "        (1e-1, 'd'),\n",
    "        (1e-2, 'c'),\n",
    "        (1e-3, 'm'),\n",
    "        (1e-6, 'µ'),\n",
    "        (1e-9, 'n'),\n",
    "        (1e-12, 'p'),\n",
    "        (1e-15, 'f'),\n",
    "        (1e-18, 'a'),\n",
    "        (1e-21, 'z'),\n",
    "    ]\n",
    "    \n",
    "    for factor, prefix in prefixes:\n",
    "        if n >= factor:\n",
    "            return \"{:.1f} {}\".format(n / factor, prefix)\n",
    "    \n",
    "    return \"{:.1f}\".format(n)\n",
    "\n",
    "def convert_to_prefix_english(n:float):\n",
    "    prefixes = [\n",
    "        (1e18, 'exa'),\n",
    "        (1e15, 'peta'),\n",
    "        (1e12, 'tera'),\n",
    "        (1e9, 'giga'),\n",
    "        (1e6, 'mega'),\n",
    "        (1e3, 'kilo'),\n",
    "        (1e2, 'hecto'),\n",
    "        (1e1, 'deca'),\n",
    "        (1e-1, 'deci'),\n",
    "        (1e-2, 'centi'),\n",
    "        (1e-3, 'mili'),\n",
    "        (1e-6, 'micro'),\n",
    "        (1e-9, 'nano'),\n",
    "        (1e-12, 'pico'),\n",
    "        (1e-15, 'femto'),\n",
    "        (1e-18, 'atto'),\n",
    "        (1e-21, 'zepto')\n",
    "    ]\n",
    "    \n",
    "    for factor, prefix in prefixes:\n",
    "    # check through the list of prefixes\n",
    "        if n >= factor:\n",
    "            a = float(convert_to_scientific(n / factor))\n",
    "            return \"{:.1f} {}\".format(a, prefix)\n",
    "\n",
    "    return convert_to_scientific(n)\n",
    "\n",
    "# Example usage:\n",
    "print(convert_to_prefix_english(12345670))\n",
    "\n"
   ]
  },
  {
   "cell_type": "code",
   "execution_count": 17,
   "metadata": {},
   "outputs": [
    {
     "name": "stdout",
     "output_type": "stream",
     "text": [
      "3.1622776601683795\n",
      "31.622776601683793\n"
     ]
    }
   ],
   "source": [
    "# geomatric mean\n",
    "import math\n",
    "\n",
    "def geometric_mean(a, b):\n",
    "    return math.sqrt(a * b)\n",
    "\n",
    "# Example usage:\n",
    "print(geometric_mean(1, 10)) # output: 3.1622776601683795\n",
    "print(geometric_mean(10, 100)) # output: 3.1622776601683795\n"
   ]
  }
 ],
 "metadata": {
  "kernelspec": {
   "display_name": "Python 3",
   "language": "python",
   "name": "python3"
  },
  "language_info": {
   "codemirror_mode": {
    "name": "ipython",
    "version": 3
   },
   "file_extension": ".py",
   "mimetype": "text/x-python",
   "name": "python",
   "nbconvert_exporter": "python",
   "pygments_lexer": "ipython3",
   "version": "3.11.3"
  },
  "orig_nbformat": 4
 },
 "nbformat": 4,
 "nbformat_minor": 2
}
