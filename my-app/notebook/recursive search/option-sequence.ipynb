{
 "cells": [
  {
   "attachments": {},
   "cell_type": "markdown",
   "metadata": {},
   "source": [
    "# Human initiasation and invigilation"
   ]
  },
  {
   "cell_type": "code",
   "execution_count": null,
   "metadata": {},
   "outputs": [],
   "source": [
    "# desirable execution loop\n",
    "\n",
    "# Fermy will "
   ]
  },
  {
   "cell_type": "code",
   "execution_count": null,
   "metadata": {},
   "outputs": [],
   "source": [
    "# loaded selected questions\n",
    "\n",
    "# MCQ styled prompt\n",
    "\n",
    "option_prompt_example = \"\"\"\n",
    "The user wants to estimate the number of people interacting with a chatbot at any given moment. What could the answer be? \n",
    "You have 4 options, and each option will require you to use a different approach:\n",
    "Option 1: You have the option to reply you don't know.\n",
    "Option 2: You have the option (if you don't know the answer) to report up to 3 most significant quantities an accurate estimation of the user's question is dependent on.\n",
    "Option 3: You have the option to search your own knowledge base if you know the answer, and you will report the answer. \n",
    "Option 4: You have the option to take a ballpark guess, and you will report that guess. And justify your answer.\n",
    "\n",
    "You will reply by stating your option, then your report.\n",
    "\"\"\""
   ]
  },
  {
   "cell_type": "code",
   "execution_count": null,
   "metadata": {},
   "outputs": [],
   "source": [
    "# Fermy will ask for the user's option, and then the user's report.\n",
    "\n",
    "option_prompt_example = \"\"\"\n",
    "You have knowledge \n",
    "\"\"\""
   ]
  }
 ],
 "metadata": {
  "language_info": {
   "name": "python"
  },
  "orig_nbformat": 4
 },
 "nbformat": 4,
 "nbformat_minor": 2
}
