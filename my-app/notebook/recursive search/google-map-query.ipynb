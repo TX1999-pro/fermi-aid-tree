{
 "cells": [
  {
   "cell_type": "code",
   "execution_count": 2,
   "metadata": {},
   "outputs": [
    {
     "name": "stdout",
     "output_type": "stream",
     "text": [
      "Requirement already satisfied: googlemaps in c:\\users\\wtx\\appdata\\local\\programs\\python\\python311\\lib\\site-packages (4.10.0)\n",
      "Requirement already satisfied: requests<3.0,>=2.20.0 in c:\\users\\wtx\\appdata\\local\\programs\\python\\python311\\lib\\site-packages (from googlemaps) (2.30.0)\n",
      "Requirement already satisfied: charset-normalizer<4,>=2 in c:\\users\\wtx\\appdata\\local\\programs\\python\\python311\\lib\\site-packages (from requests<3.0,>=2.20.0->googlemaps) (3.1.0)\n",
      "Requirement already satisfied: idna<4,>=2.5 in c:\\users\\wtx\\appdata\\local\\programs\\python\\python311\\lib\\site-packages (from requests<3.0,>=2.20.0->googlemaps) (3.4)\n",
      "Requirement already satisfied: urllib3<3,>=1.21.1 in c:\\users\\wtx\\appdata\\local\\programs\\python\\python311\\lib\\site-packages (from requests<3.0,>=2.20.0->googlemaps) (2.0.2)\n",
      "Requirement already satisfied: certifi>=2017.4.17 in c:\\users\\wtx\\appdata\\local\\programs\\python\\python311\\lib\\site-packages (from requests<3.0,>=2.20.0->googlemaps) (2023.5.7)\n",
      "Note: you may need to restart the kernel to use updated packages.\n"
     ]
    }
   ],
   "source": [
    "%pip install -U googlemaps"
   ]
  },
  {
   "cell_type": "code",
   "execution_count": 3,
   "metadata": {},
   "outputs": [
    {
     "ename": "ValueError",
     "evalue": "Must provide API key or enterprise credentials when creating client.",
     "output_type": "error",
     "traceback": [
      "\u001b[1;31m---------------------------------------------------------------------------\u001b[0m",
      "\u001b[1;31mValueError\u001b[0m                                Traceback (most recent call last)",
      "Cell \u001b[1;32mIn[3], line 7\u001b[0m\n\u001b[0;32m      4\u001b[0m \u001b[39m# Get the API key from the environment variable\u001b[39;00m\n\u001b[0;32m      5\u001b[0m api_key \u001b[39m=\u001b[39m os\u001b[39m.\u001b[39mgetenv(\u001b[39m\"\u001b[39m\u001b[39mGOOGLE_MAPS_API_KEY\u001b[39m\u001b[39m\"\u001b[39m)\n\u001b[1;32m----> 7\u001b[0m gmaps \u001b[39m=\u001b[39m googlemaps\u001b[39m.\u001b[39;49mClient(key\u001b[39m=\u001b[39;49mapi_key)\n\u001b[0;32m      9\u001b[0m \u001b[39m# Look for body product shops in New York\u001b[39;00m\n\u001b[0;32m     10\u001b[0m places_result  \u001b[39m=\u001b[39m gmaps\u001b[39m.\u001b[39mplaces(query\u001b[39m=\u001b[39m\u001b[39m'\u001b[39m\u001b[39mnurseries in Beijing\u001b[39m\u001b[39m'\u001b[39m)\n",
      "File \u001b[1;32mc:\\Users\\WTX\\AppData\\Local\\Programs\\Python\\Python311\\Lib\\site-packages\\googlemaps\\client.py:140\u001b[0m, in \u001b[0;36mClient.__init__\u001b[1;34m(self, key, client_id, client_secret, timeout, connect_timeout, read_timeout, retry_timeout, requests_kwargs, queries_per_second, queries_per_minute, channel, retry_over_query_limit, experience_id, requests_session, base_url)\u001b[0m\n\u001b[0;32m     64\u001b[0m \u001b[39m\u001b[39m\u001b[39m\"\"\"\u001b[39;00m\n\u001b[0;32m     65\u001b[0m \u001b[39m:param key: Maps API key. Required, unless \"client_id\" and\u001b[39;00m\n\u001b[0;32m     66\u001b[0m \u001b[39m    \"client_secret\" are set. Most users should use an API key.\u001b[39;00m\n\u001b[1;32m   (...)\u001b[0m\n\u001b[0;32m    137\u001b[0m \n\u001b[0;32m    138\u001b[0m \u001b[39m\"\"\"\u001b[39;00m\n\u001b[0;32m    139\u001b[0m \u001b[39mif\u001b[39;00m \u001b[39mnot\u001b[39;00m key \u001b[39mand\u001b[39;00m \u001b[39mnot\u001b[39;00m (client_secret \u001b[39mand\u001b[39;00m client_id):\n\u001b[1;32m--> 140\u001b[0m     \u001b[39mraise\u001b[39;00m \u001b[39mValueError\u001b[39;00m(\u001b[39m\"\u001b[39m\u001b[39mMust provide API key or enterprise credentials \u001b[39m\u001b[39m\"\u001b[39m\n\u001b[0;32m    141\u001b[0m                      \u001b[39m\"\u001b[39m\u001b[39mwhen creating client.\u001b[39m\u001b[39m\"\u001b[39m)\n\u001b[0;32m    143\u001b[0m \u001b[39mif\u001b[39;00m key \u001b[39mand\u001b[39;00m \u001b[39mnot\u001b[39;00m key\u001b[39m.\u001b[39mstartswith(\u001b[39m\"\u001b[39m\u001b[39mAIza\u001b[39m\u001b[39m\"\u001b[39m):\n\u001b[0;32m    144\u001b[0m     \u001b[39mraise\u001b[39;00m \u001b[39mValueError\u001b[39;00m(\u001b[39m\"\u001b[39m\u001b[39mInvalid API key provided.\u001b[39m\u001b[39m\"\u001b[39m)\n",
      "\u001b[1;31mValueError\u001b[0m: Must provide API key or enterprise credentials when creating client."
     ]
    }
   ],
   "source": [
    "import os\n",
    "import googlemaps\n",
    "\n",
    "# Get the API key from the environment variable\n",
    "api_key = os.getenv(\"GOOGLE_MAPS_API_KEY\")\n",
    "\n",
    "gmaps = googlemaps.Client(key=api_key)\n",
    "\n",
    "# Look for body product shops in New York\n",
    "places_result  = gmaps.places(query='nurseries in Beijing')\n"
   ]
  }
 ],
 "metadata": {
  "kernelspec": {
   "display_name": "Python 3",
   "language": "python",
   "name": "python3"
  },
  "language_info": {
   "codemirror_mode": {
    "name": "ipython",
    "version": 3
   },
   "file_extension": ".py",
   "mimetype": "text/x-python",
   "name": "python",
   "nbconvert_exporter": "python",
   "pygments_lexer": "ipython3",
   "version": "3.11.3"
  },
  "orig_nbformat": 4
 },
 "nbformat": 4,
 "nbformat_minor": 2
}
