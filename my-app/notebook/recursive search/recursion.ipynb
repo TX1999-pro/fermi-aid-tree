{
 "cells": [
  {
   "attachments": {},
   "cell_type": "markdown",
   "metadata": {},
   "source": [
    "# Implementation of a psudo-recursive search for AI agent"
   ]
  },
  {
   "cell_type": "code",
   "execution_count": 50,
   "metadata": {},
   "outputs": [],
   "source": [
    "class BasicNode:\n",
    "    def __init__(self, value=None):\n",
    "        self.value = value\n",
    "        self.left = None\n",
    "        self.right = None\n",
    "\n",
    "class Node:\n",
    "    def __init__(self, key, name, value=None, action=\"agent-guess\"):\n",
    "        self.key = key\n",
    "        self.name = name\n",
    "        self.action = action\n",
    "        self.value = value\n",
    "        self.left = None\n",
    "        self.right = None\n",
    "\n",
    "\n",
    "def depth_first_search(node):\n",
    "    if node is None:\n",
    "        return\n",
    "\n",
    "    # Visit the node\n",
    "    print(f\"{node.key} - {node.name}: {node.value} -> From Action: {node.action}\")\n",
    "\n",
    "    # Recur for the left subtree\n",
    "    depth_first_search(node.left)\n",
    "\n",
    "    # Recur for the right subtree\n",
    "    depth_first_search(node.right)"
   ]
  },
  {
   "cell_type": "code",
   "execution_count": 51,
   "metadata": {},
   "outputs": [
    {
     "name": "stdout",
     "output_type": "stream",
     "text": [
      "1 - piano tuner: None -> From Action: breakdown\n",
      "2 - piano in Chicago: None -> From Action: breakdown\n",
      "4 - population in chicago: None -> From Action: guess\n",
      "5 - piano per person: None -> From Action: guess\n",
      "3 - tuner job per piano: None -> From Action: breakdown\n",
      "6 - tuner job per tuning period: None -> From Action: guess\n",
      "7 - tuning period per piano: None -> From Action: guess\n"
     ]
    }
   ],
   "source": [
    "# Creating nodes\n",
    "root = Node(1, name= \"piano tuner\", value=None, action=\"breakdown\")\n",
    "root.left = Node(2, name=\"piano in Chicago\", value=None, action=\"breakdown\")\n",
    "root.right = Node(3, name=\"tuner job per piano\", action=\"breakdown\")\n",
    "root.left.left = Node(4, name=\"population in chicago\", value=None, action=\"guess\")\n",
    "root.left.right = Node(5, name=\"piano per person\", value=None, action=\"guess\")\n",
    "root.right.left = Node(6, name=\"tuner job per tuning period\", value=None, action=\"guess\")\n",
    "root.right.right = Node(7, name=\"tuning period per piano\", value=None, action=\"guess\")\n",
    "\n",
    "# Traverse the tree\n",
    "depth_first_search(root)\n",
    "\n",
    "\n"
   ]
  },
  {
   "cell_type": "code",
   "execution_count": 52,
   "metadata": {},
   "outputs": [
    {
     "name": "stdout",
     "output_type": "stream",
     "text": [
      "CASE 1 - classic\n",
      "None. piano tuner -> Action: breakdown\n",
      "None. piano in Chicago -> Action: breakdown\n",
      "Agent estimate for population in chicago: 53\n",
      "Agent estimate for piano per person: 56\n",
      "None. tuner job per piano -> Action: breakdown\n",
      "Agent estimate for tuner job per tuning period: 7\n",
      "Agent estimate for tuning period per piano: 38\n"
     ]
    }
   ],
   "source": [
    "import random\n",
    "\n",
    "# write a random guess function\n",
    "def random_guess():\n",
    "    return random.randint(0, 100)\n",
    "\n",
    "def agent_estimate(node):\n",
    "    if node.action == \"guess\":\n",
    "        node.value = random_guess()\n",
    "        print(f\"Agent estimate for {node.name}: {node.value}\")\n",
    "        return\n",
    "\n",
    "    # Visit the node\n",
    "    print(f\"{node.value}. {node.name} -> Action: {node.action}\")\n",
    "\n",
    "    # Recur for the left subtree\n",
    "    agent_estimate(node.left)\n",
    "\n",
    "    # Recur for the right subtree\n",
    "    agent_estimate(node.right)\n",
    "\n",
    "\n",
    "# CASE 1\n",
    "print(\"CASE 1 - classic\")\n",
    "root = Node(1, name= \"piano tuner\", action=\"breakdown\")\n",
    "root.left = Node(2, name=\"piano in Chicago\", action=\"breakdown\")\n",
    "root.right = Node(3, name=\"tuner job per piano\", action=\"breakdown\")\n",
    "root.left.left = Node(4, name=\"population in chicago\", action=\"guess\")\n",
    "root.left.right = Node(5, name=\"piano per person\", action=\"guess\")\n",
    "root.right.left = Node(6, name=\"tuner job per tuning period\", action=\"guess\")\n",
    "root.right.right = Node(7, name=\"tuning period per piano\", action=\"guess\")\n",
    "\n",
    "agent_estimate(root)\n",
    "\n"
   ]
  },
  {
   "cell_type": "code",
   "execution_count": 54,
   "metadata": {},
   "outputs": [
    {
     "name": "stdout",
     "output_type": "stream",
     "text": [
      "789488\n",
      "Product of all the nodes is: 789488\n",
      "1 - piano tuner: 789488 -> From Action: breakdown\n",
      "2 - piano in Chicago: 2968 -> From Action: breakdown\n",
      "4 - population in chicago: 53 -> From Action: guess\n",
      "5 - piano per person: 56 -> From Action: guess\n",
      "3 - tuner job per piano: 266 -> From Action: breakdown\n",
      "6 - tuner job per tuning period: 7 -> From Action: guess\n",
      "7 - tuning period per piano: 38 -> From Action: guess\n"
     ]
    }
   ],
   "source": [
    "def propagate_product(node):\n",
    "    if node is None:\n",
    "        return 1  # if no child node, return 1 (neutral element for multiplication)\n",
    "\n",
    "    if node.value is not None:\n",
    "        return node.value\n",
    "    # Recur for the left and right subtrees\n",
    "    left_value = propagate_product(node.left)\n",
    "    right_value = propagate_product(node.right)\n",
    "\n",
    "    # Multiply the values of the children\n",
    "    node.value = left_value * right_value\n",
    "\n",
    "    return node.value  # return the computed value\n",
    "\n",
    "\n",
    "# Propagate product from leaves to root\n",
    "propagate_product(root)\n",
    "\n",
    "# The root node now stores the product of all values in the tree\n",
    "print(root.value)  # outputs: 840 (which is 4*5*6*7)\n",
    "prod = propagate_product(root)\n",
    "\n",
    "print(\"Product of all the nodes is:\", prod)\n",
    "depth_first_search(root)"
   ]
  },
  {
   "cell_type": "code",
   "execution_count": 58,
   "metadata": {},
   "outputs": [
    {
     "name": "stdout",
     "output_type": "stream",
     "text": [
      "CASE 2 - early escape\n",
      "None. piano tuner -> Action: breakdown\n",
      "None. piano in Chicago -> Action: breakdown\n",
      "Agent estimate for population in chicago: 35\n",
      "Agent estimate for piano per person: 93\n",
      "Agent estimate for tuner job per piano: 92\n",
      "Product of all the nodes is: 299460\n",
      "1 - piano tuner: 299460 -> From Action: breakdown\n",
      "2 - piano in Chicago: 3255 -> From Action: breakdown\n",
      "4 - population in chicago: 35 -> From Action: guess\n",
      "5 - piano per person: 93 -> From Action: guess\n",
      "3 - tuner job per piano: 92 -> From Action: guess\n",
      "6 - tuner job per tuning period: None -> From Action: guess\n",
      "7 - tuning period per piano: None -> From Action: guess\n"
     ]
    }
   ],
   "source": [
    "# CASE 2 - early escape\n",
    "print(\"CASE 2 - early escape\")\n",
    "root = Node(1, name= \"piano tuner\", action=\"breakdown\")\n",
    "root.left = Node(2, name=\"piano in Chicago\", action=\"breakdown\")\n",
    "root.right = Node(3, name=\"tuner job per piano\", action=\"guess\")\n",
    "root.left.left = Node(4, name=\"population in chicago\", action=\"guess\")\n",
    "root.left.right = Node(5, name=\"piano per person\", action=\"guess\")\n",
    "root.right.left = Node(6, name=\"tuner job per tuning period\", action=\"guess\")\n",
    "root.right.right = Node(7, name=\"tuning period per piano\", action=\"guess\")\n",
    "\n",
    "agent_estimate(root)\n",
    "\n",
    "prod = propagate_product(root)\n",
    "print(\"Product of all the nodes is:\", prod)\n",
    "depth_first_search(root)"
   ]
  },
  {
   "cell_type": "code",
   "execution_count": 56,
   "metadata": {},
   "outputs": [
    {
     "name": "stdout",
     "output_type": "stream",
     "text": [
      "840\n"
     ]
    }
   ],
   "source": [
    "def propagate_product_json(node):\n",
    "    if node is None:\n",
    "        return 1\n",
    "\n",
    "    # If the node is a leaf (no 'left' or 'right' keys), return its value\n",
    "    if 'left' not in node and 'right' not in node:\n",
    "        return node['value']\n",
    "\n",
    "    # Recur for the left and right subtrees\n",
    "    left_value = propagate_product_json(node.get('left'))\n",
    "    right_value = propagate_product_json(node.get('right'))\n",
    "\n",
    "    # Multiply the values of the children\n",
    "    node['value'] = left_value * right_value\n",
    "\n",
    "    return node['value']\n",
    "\n",
    "# Creating the tree structure\n",
    "root = {\n",
    "    'left': {\n",
    "        'left': {'value': 4},\n",
    "        'right': {'value': 5}\n",
    "    },\n",
    "    'right': {\n",
    "        'left': {'value': 6},\n",
    "        'right': {'value': 7}\n",
    "    }\n",
    "}\n",
    "\n",
    "# Propagate product from leaves to root\n",
    "propagate_product_json(root)\n",
    "\n",
    "# The root node now stores the product of all values in the tree\n",
    "print(root['value'])  # outputs: 840 (which is 4*5*6*7)\n"
   ]
  },
  {
   "cell_type": "code",
   "execution_count": 62,
   "metadata": {},
   "outputs": [
    {
     "name": "stdout",
     "output_type": "stream",
     "text": [
      "{\n",
      "    \"value\": null,\n",
      "    \"name\": \"piano tuner\",\n",
      "    \"action\": \"breakdown\",\n",
      "    \"left\": {\n",
      "        \"value\": null,\n",
      "        \"name\": \"piano in Chicago\",\n",
      "        \"action\": \"breakdown\",\n",
      "        \"left\": {\n",
      "            \"value\": null,\n",
      "            \"name\": \"population in chicago\",\n",
      "            \"action\": \"guess\",\n",
      "            \"left\": null,\n",
      "            \"right\": null\n",
      "        },\n",
      "        \"right\": {\n",
      "            \"value\": null,\n",
      "            \"name\": \"piano per person\",\n",
      "            \"action\": \"guess\",\n",
      "            \"left\": null,\n",
      "            \"right\": null\n",
      "        }\n",
      "    },\n",
      "    \"right\": {\n",
      "        \"value\": null,\n",
      "        \"name\": \"tuner job per piano\",\n",
      "        \"action\": \"guess\",\n",
      "        \"left\": {\n",
      "            \"value\": null,\n",
      "            \"name\": \"tuner job per tuning period\",\n",
      "            \"action\": \"guess\",\n",
      "            \"left\": null,\n",
      "            \"right\": null\n",
      "        },\n",
      "        \"right\": {\n",
      "            \"value\": null,\n",
      "            \"name\": \"tuning period per piano\",\n",
      "            \"action\": \"guess\",\n",
      "            \"left\": null,\n",
      "            \"right\": null\n",
      "        }\n",
      "    }\n",
      "}\n"
     ]
    }
   ],
   "source": [
    "# convert Node class to dictionary\n",
    "\n",
    "import json\n",
    "root = Node(1, name= \"piano tuner\", action=\"breakdown\")\n",
    "root.left = Node(2, name=\"piano in Chicago\", action=\"breakdown\")\n",
    "root.right = Node(3, name=\"tuner job per piano\", action=\"guess\")\n",
    "root.left.left = Node(4, name=\"population in chicago\", action=\"guess\")\n",
    "root.left.right = Node(5, name=\"piano per person\", action=\"guess\")\n",
    "root.right.left = Node(6, name=\"tuner job per tuning period\", action=\"guess\")\n",
    "root.right.right = Node(7, name=\"tuning period per piano\", action=\"guess\")\n",
    "\n",
    "def node_to_dict(node):\n",
    "    if node is None:\n",
    "        return None\n",
    "    return {\n",
    "        'value': node.value,\n",
    "        'name': node.name,\n",
    "        'action': node.action,\n",
    "        'left': node_to_dict(node.left),\n",
    "        'right': node_to_dict(node.right)\n",
    "    }\n",
    "\n",
    "# Convert the Node tree to a dictionary\n",
    "root_dict = node_to_dict(root)\n",
    "\n",
    "# # Convert the dictionary to a JSON string\n",
    "# root_json = json.dumps(root_dict, indent=4)\n",
    "\n",
    "print(json.dumps(root_dict, indent=4))\n"
   ]
  }
 ],
 "metadata": {
  "kernelspec": {
   "display_name": "Python 3",
   "language": "python",
   "name": "python3"
  },
  "language_info": {
   "codemirror_mode": {
    "name": "ipython",
    "version": 3
   },
   "file_extension": ".py",
   "mimetype": "text/x-python",
   "name": "python",
   "nbconvert_exporter": "python",
   "pygments_lexer": "ipython3",
   "version": "3.11.3"
  },
  "orig_nbformat": 4
 },
 "nbformat": 4,
 "nbformat_minor": 2
}
