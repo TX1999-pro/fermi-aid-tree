{
 "cells": [
  {
   "attachments": {},
   "cell_type": "markdown",
   "metadata": {},
   "source": [
    "# Experiment 1 - evaluate the impact of prompt design in estimation task performance"
   ]
  },
  {
   "cell_type": "code",
   "execution_count": 2,
   "metadata": {},
   "outputs": [],
   "source": [
    "import pandas as pd"
   ]
  },
  {
   "cell_type": "code",
   "execution_count": 3,
   "metadata": {},
   "outputs": [
    {
     "name": "stdout",
     "output_type": "stream",
     "text": [
      "                                             Question Prompt_1_result   \n",
      "0   {'id': 2364, 'name': 'How hot does the superhe...             NaN  \\\n",
      "1   {'id': 2147, 'name': 'How many times could you...             4.0   \n",
      "2   {'id': 2126, 'name': 'How many bricks are in t...             NaN   \n",
      "3   {'id': 2530, 'name': 'On average and to be app...             NaN   \n",
      "4   {'id': 2101, 'name': 'How much volume would 41...             6.0   \n",
      "5   {'id': 2090, 'name': 'The density of water is ...             4.5   \n",
      "6   {'id': 2209, 'name': 'If all of the people in ...             4.0   \n",
      "7   {'id': 2346, 'name': 'What is the weight of ai...             NaN   \n",
      "8   {'id': 2354, 'name': 'How long would it have t...             NaN   \n",
      "9   {'id': 2373, 'name': 'What is the total area o...             NaN   \n",
      "10  {'id': 2375, 'name': 'What is the weight of a ...             NaN   \n",
      "11  {'id': 2104, 'name': 'How much oil is there le...            12.0   \n",
      "12  {'id': 2115, 'name': 'Suppose a meteor made of...             5.0   \n",
      "13  {'id': 2550, 'name': 'What is the mass, in kgs...             1.0   \n",
      "14  {'id': 2381, 'name': 'How many hairs on your h...             5.0   \n",
      "15  {'id': 2449, 'name': 'At the height of summer,...             NaN   \n",
      "16  {'id': 2295, 'name': 'How dense is the Milky W...             NaN   \n",
      "17  {'id': 2407, 'name': 'What is the average dist...             NaN   \n",
      "18  {'id': 2004, 'name': 'What would be the effect...             NaN   \n",
      "19  {'id': 2502, 'name': 'How much new wood is gro...             NaN   \n",
      "\n",
      "   Prompt_2_result Prompt_3_result Prompt_4_result  Prompt_5_result   \n",
      "0              4.0             1.0             0.0                7  \\\n",
      "1              3.0             4.0             4.0                4   \n",
      "2             5.35             NaN             5.0                3   \n",
      "3              5.0             NaN             NaN                4   \n",
      "4              6.0             6.0             6.0                5   \n",
      "5              3.0             3.0             NaN                2   \n",
      "6              3.0             3.0             3.0                3   \n",
      "7              1.0             2.0             1.0                1   \n",
      "8              NaN             3.0            -2.0                1   \n",
      "9             14.0             NaN             7.0               18   \n",
      "10             1.0             0.0             0.0                0   \n",
      "11            12.0             1.0             1.0               14   \n",
      "12             8.0             9.0            11.0                6   \n",
      "13            22.0            22.0            22.0               25   \n",
      "14             5.0             5.0             6.0                5   \n",
      "15            13.0             3.0             7.0               13   \n",
      "16            -7.0            -9.0             0.0              -10   \n",
      "17            -7.0            -8.0            -8.0               -4   \n",
      "18             8.0             0.0             0.0                9   \n",
      "19             9.2             9.0             9.0               10   \n",
      "\n",
      "    Ground-Truth   Average  Performance_Score   Score_1   Score_2   Score_3   \n",
      "0            3.0       3.0           1.000000  0.000000  1.333333  0.333333  \\\n",
      "1            4.0       3.8           0.933333  1.000000  0.666667  1.000000   \n",
      "2            6.0      4.45           0.483333  0.000000  0.783333  0.000000   \n",
      "3            6.0       4.5           0.500000  0.000000  0.666667  0.000000   \n",
      "4            6.0       5.8           0.933333  1.000000  1.000000  1.000000   \n",
      "5            4.0     3.125           0.708333  1.166667  0.666667  0.666667   \n",
      "6            5.0       3.2           0.400000  0.666667  0.333333  0.333333   \n",
      "7            2.0      1.25           0.750000  0.000000  0.666667  1.000000   \n",
      "8            8.0  0.666667           0.000000  0.000000  0.000000  0.000000   \n",
      "9           18.0      13.0           0.000000  0.000000  0.000000  0.000000   \n",
      "10           1.0      0.25           0.750000  0.000000  1.000000  0.666667   \n",
      "11          14.0       8.0           0.000000  0.333333  0.333333  0.000000   \n",
      "12           NaN       7.8           0.000000  0.000000  0.000000  0.000000   \n",
      "13          23.0      18.4           0.000000  0.000000  0.666667  0.666667   \n",
      "14           5.0       5.2           1.066667  1.000000  1.000000  1.000000   \n",
      "15          13.0       9.0           0.000000  0.000000  1.000000  0.000000   \n",
      "16           7.0      -6.5           0.000000  0.000000  0.000000  0.000000   \n",
      "17          -4.0     -6.75           0.083333  0.000000  0.000000  0.000000   \n",
      "18           9.0      4.25           0.000000  0.000000  0.666667  0.000000   \n",
      "19          15.0       9.3           0.000000  0.000000  0.000000  0.000000   \n",
      "\n",
      "     Score_4   Score_5  \n",
      "0   0.000000  2.333333  \n",
      "1   1.000000  1.000000  \n",
      "2   0.666667  0.000000  \n",
      "3   0.000000  0.333333  \n",
      "4   1.000000  0.666667  \n",
      "5   0.000000  0.333333  \n",
      "6   0.333333  0.333333  \n",
      "7   0.666667  0.666667  \n",
      "8   0.000000  0.000000  \n",
      "9   0.000000  1.000000  \n",
      "10  0.666667  0.666667  \n",
      "11  0.000000  1.000000  \n",
      "12  0.000000  0.000000  \n",
      "13  0.666667  1.666667  \n",
      "14  1.333333  1.000000  \n",
      "15  0.000000  1.000000  \n",
      "16  0.000000  0.000000  \n",
      "17  0.000000  1.000000  \n",
      "18  0.000000  1.000000  \n",
      "19  0.000000  0.000000  \n",
      "Average performance score: 0.3804166666666667\n",
      "Average performance score for prompt 1: 0.2583333333333334\n",
      "Average performance score for prompt 2: 0.5391666666666667\n",
      "Average performance score for prompt 3: 0.33333333333333337\n",
      "Average performance score for prompt 4: 0.3166666666666667\n",
      "Average performance score for prompt 5: 0.7\n"
     ]
    }
   ],
   "source": [
    "# once the answer is obtained, manual labeling is required to determine if the answer is correct or not\n",
    "df = pd.read_csv(f\"./labelled_output_20230529-114941.csv\")\n",
    "\n",
    "# Convert columns 2 to 6 to numeric, errors='coerce' turns non-numeric values into NaN\n",
    "df.iloc[:, 1:6] = df.iloc[:, 1:6].apply(pd.to_numeric, errors='coerce')\n",
    "\n",
    "# calculate the average of columns 2 to 6\n",
    "df['Average'] = df.iloc[:, 1:6].mean(axis=1)\n",
    "\n",
    "def calculate_score(truth, avg):\n",
    "    return max(0, 1 - (truth - avg) / 3)\n",
    "\n",
    "# Calculate performance score based on ground truth (col 6) and average (col 7)\n",
    "# and store the value in the 'Performance_Score' column\n",
    "df['Performance_Score'] = df.apply(lambda row: calculate_score(row[6], row[7]), axis=1)\n",
    "\n",
    "for i in range(1, 6):\n",
    "    df[f'Score_{i}'] = df.apply(lambda row: calculate_score(row[6], row[i]), axis=1)\n",
    "print(df)\n",
    "\n",
    "# output the average performance score\n",
    "print(f\"Average performance score: {df['Performance_Score'].mean()}\")\n",
    "\n",
    "# output the average performance score for each prompt\n",
    "for i in range(1, 6):\n",
    "    print(f\"Average performance score for prompt {i}: {df[f'Score_{i}'].mean()}\")"
   ]
  },
  {
   "cell_type": "code",
   "execution_count": 4,
   "metadata": {},
   "outputs": [
    {
     "name": "stdout",
     "output_type": "stream",
     "text": [
      "8     {'id': 2354, 'name': 'How long would it have taken ENIAC (or another early computer) to mine 1 bitcoin?', 'answer': ...\n",
      "9     {'id': 2373, 'name': 'What is the total area of all currently existing spiderwebs in the world?', 'answer': 18, 'uni...\n",
      "11                                 {'id': 2104, 'name': 'How much oil is there left in the world?', 'answer': 14, 'unit': ''}\n",
      "12    {'id': 2115, 'name': 'Suppose a meteor made of nickel and iron falls to the earth from deep space. Estimate how much...\n",
      "13                                 {'id': 2550, 'name': 'What is the mass, in kgs, of the moon?', 'answer': 23, 'unit': 'kg'}\n",
      "15    {'id': 2449, 'name': 'At the height of summer, what is the total mass of all the leaves grown on trees in New Hampsh...\n",
      "16    {'id': 2295, 'name': 'How dense is the Milky Way galaxy in terms of stars per cubic light year?', 'answer': 7, 'unit...\n",
      "18    {'id': 2004, 'name': 'What would be the effect to the oceans If all fishing was banned for four days once a year acr...\n",
      "19     {'id': 2502, 'name': 'How much new wood is grown around the world by trees everyday?', 'answer': 15, 'unit': 'pounds'}\n",
      "Name: Question, dtype: object\n"
     ]
    }
   ],
   "source": [
    "#print the entire rows where 'Performance_Score' is effectively 0.00\n",
    "zero_score_rows = df[df['Performance_Score'] <= 0.00001]\n",
    "pd.set_option('display.max_colwidth', 120)  # or 199\n",
    "print(zero_score_rows.iloc[:, 0])"
   ]
  }
 ],
 "metadata": {
  "kernelspec": {
   "display_name": "Python 3",
   "language": "python",
   "name": "python3"
  },
  "language_info": {
   "codemirror_mode": {
    "name": "ipython",
    "version": 3
   },
   "file_extension": ".py",
   "mimetype": "text/x-python",
   "name": "python",
   "nbconvert_exporter": "python",
   "pygments_lexer": "ipython3",
   "version": "3.11.3"
  },
  "orig_nbformat": 4
 },
 "nbformat": 4,
 "nbformat_minor": 2
}
